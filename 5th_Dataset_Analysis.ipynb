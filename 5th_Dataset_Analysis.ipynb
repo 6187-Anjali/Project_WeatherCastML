{
 "cells": [
  {
   "cell_type": "code",
   "execution_count": 1,
   "id": "7dd986eb",
   "metadata": {},
   "outputs": [],
   "source": [
    "import numpy as np\n",
    "import pandas as pd\n",
    "import matplotlib.pyplot as plt"
   ]
  },
  {
   "cell_type": "code",
   "execution_count": 2,
   "id": "5a23f72b",
   "metadata": {},
   "outputs": [],
   "source": [
    "df = pd.read_csv('sorted_temp_and_rain_dataset.csv')"
   ]
  },
  {
   "cell_type": "code",
   "execution_count": 3,
   "id": "1fbe93d3",
   "metadata": {},
   "outputs": [
    {
     "data": {
      "text/html": [
       "<div>\n",
       "<style scoped>\n",
       "    .dataframe tbody tr th:only-of-type {\n",
       "        vertical-align: middle;\n",
       "    }\n",
       "\n",
       "    .dataframe tbody tr th {\n",
       "        vertical-align: top;\n",
       "    }\n",
       "\n",
       "    .dataframe thead th {\n",
       "        text-align: right;\n",
       "    }\n",
       "</style>\n",
       "<table border=\"1\" class=\"dataframe\">\n",
       "  <thead>\n",
       "    <tr style=\"text-align: right;\">\n",
       "      <th></th>\n",
       "      <th>tem</th>\n",
       "      <th>Month</th>\n",
       "      <th>Year</th>\n",
       "      <th>rain</th>\n",
       "    </tr>\n",
       "  </thead>\n",
       "  <tbody>\n",
       "    <tr>\n",
       "      <th>0</th>\n",
       "      <td>16.9760</td>\n",
       "      <td>1</td>\n",
       "      <td>1901</td>\n",
       "      <td>18.5356</td>\n",
       "    </tr>\n",
       "    <tr>\n",
       "      <th>1</th>\n",
       "      <td>19.9026</td>\n",
       "      <td>2</td>\n",
       "      <td>1901</td>\n",
       "      <td>16.2548</td>\n",
       "    </tr>\n",
       "    <tr>\n",
       "      <th>2</th>\n",
       "      <td>24.3158</td>\n",
       "      <td>3</td>\n",
       "      <td>1901</td>\n",
       "      <td>70.7981</td>\n",
       "    </tr>\n",
       "    <tr>\n",
       "      <th>3</th>\n",
       "      <td>28.1834</td>\n",
       "      <td>4</td>\n",
       "      <td>1901</td>\n",
       "      <td>66.1616</td>\n",
       "    </tr>\n",
       "    <tr>\n",
       "      <th>4</th>\n",
       "      <td>27.8892</td>\n",
       "      <td>5</td>\n",
       "      <td>1901</td>\n",
       "      <td>267.2150</td>\n",
       "    </tr>\n",
       "  </tbody>\n",
       "</table>\n",
       "</div>"
      ],
      "text/plain": [
       "       tem  Month  Year      rain\n",
       "0  16.9760      1  1901   18.5356\n",
       "1  19.9026      2  1901   16.2548\n",
       "2  24.3158      3  1901   70.7981\n",
       "3  28.1834      4  1901   66.1616\n",
       "4  27.8892      5  1901  267.2150"
      ]
     },
     "execution_count": 3,
     "metadata": {},
     "output_type": "execute_result"
    }
   ],
   "source": [
    "df.head()"
   ]
  },
  {
   "cell_type": "code",
   "execution_count": 4,
   "id": "dc14c0ae",
   "metadata": {},
   "outputs": [
    {
     "data": {
      "text/html": [
       "<div>\n",
       "<style scoped>\n",
       "    .dataframe tbody tr th:only-of-type {\n",
       "        vertical-align: middle;\n",
       "    }\n",
       "\n",
       "    .dataframe tbody tr th {\n",
       "        vertical-align: top;\n",
       "    }\n",
       "\n",
       "    .dataframe thead th {\n",
       "        text-align: right;\n",
       "    }\n",
       "</style>\n",
       "<table border=\"1\" class=\"dataframe\">\n",
       "  <thead>\n",
       "    <tr style=\"text-align: right;\">\n",
       "      <th></th>\n",
       "      <th>tem</th>\n",
       "      <th>Month</th>\n",
       "      <th>Year</th>\n",
       "      <th>rain</th>\n",
       "    </tr>\n",
       "  </thead>\n",
       "  <tbody>\n",
       "    <tr>\n",
       "      <th>0</th>\n",
       "      <td>16.976000</td>\n",
       "      <td>1</td>\n",
       "      <td>1901</td>\n",
       "      <td>18.535600</td>\n",
       "    </tr>\n",
       "    <tr>\n",
       "      <th>1</th>\n",
       "      <td>19.902600</td>\n",
       "      <td>2</td>\n",
       "      <td>1901</td>\n",
       "      <td>16.254800</td>\n",
       "    </tr>\n",
       "    <tr>\n",
       "      <th>2</th>\n",
       "      <td>24.315800</td>\n",
       "      <td>3</td>\n",
       "      <td>1901</td>\n",
       "      <td>70.798100</td>\n",
       "    </tr>\n",
       "    <tr>\n",
       "      <th>3</th>\n",
       "      <td>28.183400</td>\n",
       "      <td>4</td>\n",
       "      <td>1901</td>\n",
       "      <td>66.161600</td>\n",
       "    </tr>\n",
       "    <tr>\n",
       "      <th>4</th>\n",
       "      <td>27.889200</td>\n",
       "      <td>5</td>\n",
       "      <td>1901</td>\n",
       "      <td>267.215000</td>\n",
       "    </tr>\n",
       "    <tr>\n",
       "      <th>...</th>\n",
       "      <td>...</td>\n",
       "      <td>...</td>\n",
       "      <td>...</td>\n",
       "      <td>...</td>\n",
       "    </tr>\n",
       "    <tr>\n",
       "      <th>1469</th>\n",
       "      <td>28.586394</td>\n",
       "      <td>6</td>\n",
       "      <td>2023</td>\n",
       "      <td>299.915166</td>\n",
       "    </tr>\n",
       "    <tr>\n",
       "      <th>1470</th>\n",
       "      <td>28.533089</td>\n",
       "      <td>7</td>\n",
       "      <td>2023</td>\n",
       "      <td>353.399033</td>\n",
       "    </tr>\n",
       "    <tr>\n",
       "      <th>1471</th>\n",
       "      <td>28.451926</td>\n",
       "      <td>8</td>\n",
       "      <td>2023</td>\n",
       "      <td>421.058714</td>\n",
       "    </tr>\n",
       "    <tr>\n",
       "      <th>1472</th>\n",
       "      <td>27.737212</td>\n",
       "      <td>9</td>\n",
       "      <td>2023</td>\n",
       "      <td>306.090925</td>\n",
       "    </tr>\n",
       "    <tr>\n",
       "      <th>1473</th>\n",
       "      <td>26.015523</td>\n",
       "      <td>10</td>\n",
       "      <td>2023</td>\n",
       "      <td>320.779073</td>\n",
       "    </tr>\n",
       "  </tbody>\n",
       "</table>\n",
       "<p>1474 rows × 4 columns</p>\n",
       "</div>"
      ],
      "text/plain": [
       "            tem  Month  Year        rain\n",
       "0     16.976000      1  1901   18.535600\n",
       "1     19.902600      2  1901   16.254800\n",
       "2     24.315800      3  1901   70.798100\n",
       "3     28.183400      4  1901   66.161600\n",
       "4     27.889200      5  1901  267.215000\n",
       "...         ...    ...   ...         ...\n",
       "1469  28.586394      6  2023  299.915166\n",
       "1470  28.533089      7  2023  353.399033\n",
       "1471  28.451926      8  2023  421.058714\n",
       "1472  27.737212      9  2023  306.090925\n",
       "1473  26.015523     10  2023  320.779073\n",
       "\n",
       "[1474 rows x 4 columns]"
      ]
     },
     "execution_count": 4,
     "metadata": {},
     "output_type": "execute_result"
    }
   ],
   "source": [
    "df"
   ]
  },
  {
   "cell_type": "code",
   "execution_count": 5,
   "id": "6220369a",
   "metadata": {},
   "outputs": [
    {
     "data": {
      "text/html": [
       "<div>\n",
       "<style scoped>\n",
       "    .dataframe tbody tr th:only-of-type {\n",
       "        vertical-align: middle;\n",
       "    }\n",
       "\n",
       "    .dataframe tbody tr th {\n",
       "        vertical-align: top;\n",
       "    }\n",
       "\n",
       "    .dataframe thead th {\n",
       "        text-align: right;\n",
       "    }\n",
       "</style>\n",
       "<table border=\"1\" class=\"dataframe\">\n",
       "  <thead>\n",
       "    <tr style=\"text-align: right;\">\n",
       "      <th></th>\n",
       "      <th>tem</th>\n",
       "      <th>Month</th>\n",
       "      <th>Year</th>\n",
       "      <th>rain</th>\n",
       "    </tr>\n",
       "  </thead>\n",
       "  <tbody>\n",
       "    <tr>\n",
       "      <th>1469</th>\n",
       "      <td>28.586394</td>\n",
       "      <td>6</td>\n",
       "      <td>2023</td>\n",
       "      <td>299.915166</td>\n",
       "    </tr>\n",
       "    <tr>\n",
       "      <th>1470</th>\n",
       "      <td>28.533089</td>\n",
       "      <td>7</td>\n",
       "      <td>2023</td>\n",
       "      <td>353.399033</td>\n",
       "    </tr>\n",
       "    <tr>\n",
       "      <th>1471</th>\n",
       "      <td>28.451926</td>\n",
       "      <td>8</td>\n",
       "      <td>2023</td>\n",
       "      <td>421.058714</td>\n",
       "    </tr>\n",
       "    <tr>\n",
       "      <th>1472</th>\n",
       "      <td>27.737212</td>\n",
       "      <td>9</td>\n",
       "      <td>2023</td>\n",
       "      <td>306.090925</td>\n",
       "    </tr>\n",
       "    <tr>\n",
       "      <th>1473</th>\n",
       "      <td>26.015523</td>\n",
       "      <td>10</td>\n",
       "      <td>2023</td>\n",
       "      <td>320.779073</td>\n",
       "    </tr>\n",
       "  </tbody>\n",
       "</table>\n",
       "</div>"
      ],
      "text/plain": [
       "            tem  Month  Year        rain\n",
       "1469  28.586394      6  2023  299.915166\n",
       "1470  28.533089      7  2023  353.399033\n",
       "1471  28.451926      8  2023  421.058714\n",
       "1472  27.737212      9  2023  306.090925\n",
       "1473  26.015523     10  2023  320.779073"
      ]
     },
     "execution_count": 5,
     "metadata": {},
     "output_type": "execute_result"
    }
   ],
   "source": [
    "df.tail()"
   ]
  },
  {
   "cell_type": "code",
   "execution_count": 6,
   "id": "44c35c0e",
   "metadata": {},
   "outputs": [
    {
     "name": "stdout",
     "output_type": "stream",
     "text": [
      "<class 'pandas.core.frame.DataFrame'>\n",
      "RangeIndex: 1474 entries, 0 to 1473\n",
      "Data columns (total 4 columns):\n",
      " #   Column  Non-Null Count  Dtype  \n",
      "---  ------  --------------  -----  \n",
      " 0   tem     1474 non-null   float64\n",
      " 1   Month   1474 non-null   int64  \n",
      " 2   Year    1474 non-null   int64  \n",
      " 3   rain    1474 non-null   float64\n",
      "dtypes: float64(2), int64(2)\n",
      "memory usage: 46.2 KB\n"
     ]
    }
   ],
   "source": [
    "df.info()"
   ]
  },
  {
   "cell_type": "code",
   "execution_count": 7,
   "id": "11dc1931",
   "metadata": {},
   "outputs": [
    {
     "data": {
      "text/plain": [
       "Index(['tem', 'Month', 'Year', 'rain'], dtype='object')"
      ]
     },
     "execution_count": 7,
     "metadata": {},
     "output_type": "execute_result"
    }
   ],
   "source": [
    "df.columns"
   ]
  },
  {
   "cell_type": "code",
   "execution_count": 8,
   "id": "2c904ba3",
   "metadata": {},
   "outputs": [
    {
     "data": {
      "text/plain": [
       "rain\n",
       "4.250470      2\n",
       "18.535600     1\n",
       "39.417200     1\n",
       "396.943000    1\n",
       "377.107000    1\n",
       "             ..\n",
       "69.074700     1\n",
       "264.913000    1\n",
       "222.544000    1\n",
       "578.413000    1\n",
       "320.779073    1\n",
       "Name: count, Length: 1473, dtype: int64"
      ]
     },
     "execution_count": 8,
     "metadata": {},
     "output_type": "execute_result"
    }
   ],
   "source": [
    "df['rain'].value_counts()"
   ]
  },
  {
   "cell_type": "code",
   "execution_count": 9,
   "id": "4eb99c53",
   "metadata": {},
   "outputs": [
    {
     "data": {
      "text/plain": [
       "tem      0\n",
       "Month    0\n",
       "Year     0\n",
       "rain     0\n",
       "dtype: int64"
      ]
     },
     "execution_count": 9,
     "metadata": {},
     "output_type": "execute_result"
    }
   ],
   "source": [
    "df.isnull().sum()"
   ]
  },
  {
   "cell_type": "code",
   "execution_count": 10,
   "id": "57ba6d4f",
   "metadata": {},
   "outputs": [
    {
     "data": {
      "text/plain": [
       "tem      float64\n",
       "Month      int64\n",
       "Year       int64\n",
       "rain     float64\n",
       "dtype: object"
      ]
     },
     "execution_count": 10,
     "metadata": {},
     "output_type": "execute_result"
    }
   ],
   "source": [
    "#features & target\n",
    "df.dtypes"
   ]
  },
  {
   "cell_type": "code",
   "execution_count": null,
   "id": "df163af9",
   "metadata": {},
   "outputs": [],
   "source": [
    "# Convert 'rain' column to binary labels (1 for rain, 0 for no rain)\n",
    "df['rain_binary'] = df['rain'].apply(lambda x: 1 if x > 0 else 0)\n",
    "\n",
    "# Assuming 'rain_binary' is the binary target variable and other columns are features\n",
    "X = df.drop(columns=['rain', 'rain_binary'])  # Features\n",
    "y = df['rain_binary']  # Binary target variable\n",
    "\n",
    "# Split data into train and test sets\n",
    "X_train, X_test, y_train, y_test = train_test_split(X, y, test_size=0.2, random_state=42)\n"
   ]
  },
  {
   "cell_type": "code",
   "execution_count": null,
   "id": "104b90ee",
   "metadata": {},
   "outputs": [],
   "source": [
    "import pandas as pd\n",
    "\n",
    "# Assuming y_train contains continuous values\n",
    "num_bins = 5  # You can adjust the number of bins as needed\n",
    "bins = pd.cut(y_train, num_bins, labels=False)\n"
   ]
  },
  {
   "cell_type": "code",
   "execution_count": 14,
   "id": "d8bec8ee",
   "metadata": {},
   "outputs": [
    {
     "name": "stdout",
     "output_type": "stream",
     "text": [
      "Accuracy: 0.981941309255079\n",
      " naive bayes error rate: 0.018058690744920947\n"
     ]
    }
   ],
   "source": [
    "import pandas as pd\n",
    "from sklearn.model_selection import train_test_split\n",
    "from sklearn.naive_bayes import GaussianNB\n",
    "from sklearn.metrics import accuracy_score\n",
    "\n",
    "# Step 1: Define thresholds for rainfall categories\n",
    "low_threshold = 0\n",
    "medium_threshold = 100\n",
    "high_threshold = 300\n",
    "\n",
    "# Step 2: Convert continuous values into categorical labels\n",
    "def categorize_rainfall(amount):\n",
    "    if amount <= low_threshold:\n",
    "        return 'Low'\n",
    "    elif amount <= medium_threshold:\n",
    "        return 'Medium'\n",
    "    else:\n",
    "        return 'High'\n",
    "\n",
    "# Load rain data from CSV\n",
    "#df = pd.read_csv('rain_data.csv')\n",
    "\n",
    "# Apply categorization function to create new column 'Rain Category'\n",
    "df['Rain Category'] = df['rain'].apply(categorize_rainfall)\n",
    "\n",
    "# Step 3: Split the dataset into training and testing sets\n",
    "X = df[['rain']]\n",
    "y = df['Rain Category']\n",
    "X_train, X_test, y_train, y_test = train_test_split(X, y, test_size=0.3, random_state=42)\n",
    "\n",
    "# Step 4: Train the Naive Bayes model\n",
    "naive_bayes_model = GaussianNB()\n",
    "naive_bayes_model.fit(X_train, y_train)\n",
    "\n",
    "# Step 5: Test the model's performance\n",
    "y_pred = naive_bayes_model.predict(X_test)\n",
    "accuracy = accuracy_score(y_test, y_pred)\n",
    "print(\"Accuracy:\", accuracy)\n",
    "\n",
    "# Calculate error rate\n",
    "error_nb = 1 - accuracy\n",
    "print(\" naive bayes error rate:\", error_nb)"
   ]
  },
  {
   "cell_type": "code",
   "execution_count": 15,
   "id": "891ff2f1",
   "metadata": {},
   "outputs": [
    {
     "name": "stdout",
     "output_type": "stream",
     "text": [
      "Random Forest Accuracy: 0.9977426636568849\n",
      " Random Forest error rate: 0.0022573363431150906\n"
     ]
    }
   ],
   "source": [
    "from sklearn.ensemble import RandomForestClassifier\n",
    "\n",
    "# Step 4: Train the Random Forest model\n",
    "random_forest_model = RandomForestClassifier(random_state=42)\n",
    "random_forest_model.fit(X_train, y_train)\n",
    "\n",
    "# Step 5: Test the model's performance\n",
    "y_pred = random_forest_model.predict(X_test)\n",
    "accuracy = accuracy_score(y_test, y_pred)\n",
    "print(\"Random Forest Accuracy:\", accuracy)\n",
    "\n",
    "# Calculate error rate\n",
    "error_nb = 1 - accuracy\n",
    "print(\" Random Forest error rate:\", error_nb)"
   ]
  },
  {
   "cell_type": "code",
   "execution_count": 16,
   "id": "af7cd50d",
   "metadata": {},
   "outputs": [
    {
     "name": "stdout",
     "output_type": "stream",
     "text": [
      "SVM Accuracy: 0.9977426636568849\n",
      " SVM error rate: 0.0022573363431150906\n"
     ]
    }
   ],
   "source": [
    "from sklearn.svm import SVC\n",
    "\n",
    "# Step 4: Train the SVM model\n",
    "svm_model = SVC(kernel='linear')\n",
    "svm_model.fit(X_train, y_train)\n",
    "\n",
    "# Step 5: Test the model's performance\n",
    "y_pred = svm_model.predict(X_test)\n",
    "accuracy = accuracy_score(y_test, y_pred)\n",
    "print(\"SVM Accuracy:\", accuracy)\n",
    "\n",
    "# Calculate error rate\n",
    "error_nb = 1 - accuracy\n",
    "print(\" SVM error rate:\", error_nb)"
   ]
  },
  {
   "cell_type": "code",
   "execution_count": 17,
   "id": "fc303a70",
   "metadata": {},
   "outputs": [
    {
     "name": "stdout",
     "output_type": "stream",
     "text": [
      "KNN Accuracy: 0.9954853273137697\n",
      " KNN error rate: 0.004514672686230292\n"
     ]
    }
   ],
   "source": [
    "from sklearn.neighbors import KNeighborsClassifier\n",
    "\n",
    "# Step 4: Train the KNN model\n",
    "knn_model = KNeighborsClassifier()\n",
    "knn_model.fit(X_train, y_train)\n",
    "\n",
    "# Step 5: Test the model's performance\n",
    "y_pred = knn_model.predict(X_test)\n",
    "accuracy = accuracy_score(y_test, y_pred)\n",
    "print(\"KNN Accuracy:\", accuracy)\n",
    "\n",
    "# Calculate error rate\n",
    "error_nb = 1 - accuracy\n",
    "print(\" KNN error rate:\", error_nb)\n"
   ]
  },
  {
   "cell_type": "code",
   "execution_count": 18,
   "id": "f5f61ffd",
   "metadata": {},
   "outputs": [
    {
     "name": "stdout",
     "output_type": "stream",
     "text": [
      "Decision Tree Accuracy: 0.9977426636568849\n",
      " Decision Tree error rate: 0.0022573363431150906\n"
     ]
    }
   ],
   "source": [
    "from sklearn.tree import DecisionTreeClassifier\n",
    "\n",
    "# Step 4: Train the Decision Tree model\n",
    "decision_tree_model = DecisionTreeClassifier(random_state=42)\n",
    "decision_tree_model.fit(X_train, y_train)\n",
    "\n",
    "# Step 5: Test the model's performance\n",
    "y_pred = decision_tree_model.predict(X_test)\n",
    "accuracy = accuracy_score(y_test, y_pred)\n",
    "print(\"Decision Tree Accuracy:\", accuracy)\n",
    "\n",
    "# Calculate error rate\n",
    "error_nb = 1 - accuracy\n",
    "print(\" Decision Tree error rate:\", error_nb)"
   ]
  },
  {
   "cell_type": "code",
   "execution_count": 19,
   "id": "9780a39c",
   "metadata": {},
   "outputs": [
    {
     "data": {
      "image/png": "[encoded data removed]",
      "text/plain": [
       "<Figure size 600x300 with 1 Axes>"
      ]
     },
     "metadata": {},
     "output_type": "display_data"
    }
   ],
   "source": [
    "import matplotlib.pyplot as plt\n",
    "\n",
    "# Precision values\n",
    "precision_values = [0.981941309255079,0.9977426636568849,0.9977426636568849, 0.9954853273137697,0.9977426636568849]\n",
    "models = ['Naive Bayes', 'Random Forest', 'SVM', 'KNN', 'Decision Tree']\n",
    "\n",
    "# Plot\n",
    "plt.figure(figsize=(6, 3))\n",
    "plt.bar(models, precision_values, color='skyblue')\n",
    "plt.title('Accuracy of Different Models')\n",
    "plt.xlabel('Models')\n",
    "plt.ylabel('Accuracy')\n",
    "plt.ylim(0.98, 1.0)  # Set y-axis limit to focus on precision differences\n",
    "#plt.grid(True, linestyle='--', alpha=0.7)\n",
    "plt.show()"
   ]
  },
  {
   "cell_type": "code",
   "execution_count": 20,
   "id": "7a6ad559",
   "metadata": {},
   "outputs": [
    {
     "data": {
      "image/png": "[encoded data removed]",
      "text/plain": [
       "<Figure size 600x300 with 1 Axes>"
      ]
     },
     "metadata": {},
     "output_type": "display_data"
    }
   ],
   "source": [
    "import matplotlib.pyplot as plt\n",
    "\n",
    "# Precision values\n",
    "precision_values = [0.018058690744920947,0.0022573363431150906,0.0022573363431150906,0.004514672686230292,0.0022573363431150906]\n",
    "models = ['Naive Bayes', 'Random Forest', 'SVM', 'KNN', 'Decision Tree']\n",
    "\n",
    "# Plot\n",
    "plt.figure(figsize=(6,3))\n",
    "plt.bar(models, precision_values, color='skyblue')\n",
    "plt.title('Error rates of Different Models')\n",
    "plt.xlabel('Models')\n",
    "plt.ylabel('Error rates')\n",
    "plt.ylim(0.001, 0.03)  # Set y-axis limit to focus on precision differences\n",
    "#plt.grid(True, linestyle='--', alpha=0.7)\n",
    "plt.show()"
   ]
  },
  {
   "cell_type": "code",
   "execution_count": 22,
   "id": "b6df71bb",
   "metadata": {},
   "outputs": [
    {
     "name": "stdout",
     "output_type": "stream",
     "text": [
      "Precision of Naive Bayes: 0.9822906826876624\n",
      "Precision of Random Forest: 0.9977546072354199\n",
      "Precision of SVM: 0.9977546072354199\n",
      "Precision of KNN: 0.9954941796131546\n",
      "Precision of Decision Tree: 0.9977546072354199\n"
     ]
    }
   ],
   "source": [
    "import pandas as pd\n",
    "from sklearn.model_selection import train_test_split\n",
    "from sklearn.naive_bayes import GaussianNB\n",
    "from sklearn.ensemble import RandomForestClassifier\n",
    "from sklearn.svm import SVC\n",
    "from sklearn.neighbors import KNeighborsClassifier\n",
    "from sklearn.tree import DecisionTreeClassifier\n",
    "from sklearn.metrics import precision_score  # Importing precision_score\n",
    "\n",
    "# Step 1: Define thresholds for rainfall categories\n",
    "low_threshold = 0\n",
    "medium_threshold = 100\n",
    "high_threshold = 300\n",
    "\n",
    "# Step 2: Convert continuous values into categorical labels\n",
    "def categorize_rainfall(amount):\n",
    "    if amount <= low_threshold:\n",
    "        return 'Low'\n",
    "    elif amount <= medium_threshold:\n",
    "        return 'Medium'\n",
    "    else:\n",
    "        return 'High'\n",
    "\n",
    "# Load rain data from CSV\n",
    "# df = pd.read_csv('rain_data.csv')\n",
    "\n",
    "# Apply categorization function to create new column 'Rain Category'\n",
    "df['Rain Category'] = df['rain'].apply(categorize_rainfall)\n",
    "\n",
    "# Step 3: Split the dataset into training and testing sets\n",
    "X = df[['rain']]\n",
    "y = df['Rain Category']\n",
    "X_train, X_test, y_train, y_test = train_test_split(X, y, test_size=0.3, random_state=42)\n",
    "\n",
    "# Dictionary to store precision scores of each model\n",
    "precisions = {}\n",
    "\n",
    "# Step 4: Train and test different models\n",
    "models = {\n",
    "    'Naive Bayes': GaussianNB(),\n",
    "    'Random Forest': RandomForestClassifier(random_state=42),\n",
    "    'SVM': SVC(kernel='linear'),\n",
    "    'KNN': KNeighborsClassifier(),\n",
    "    'Decision Tree': DecisionTreeClassifier(random_state=42)\n",
    "}\n",
    "\n",
    "for name, model in models.items():\n",
    "    model.fit(X_train, y_train)\n",
    "    y_pred = model.predict(X_test)\n",
    "    precision = precision_score(y_test, y_pred, average='weighted', zero_division=1)\n",
    "    precisions[name] = precision\n",
    "\n",
    "# Print precision values\n",
    "for name, precision in precisions.items():\n",
    "    print(f'Precision of {name}: {precision}')\n"
   ]
  },
  {
   "cell_type": "code",
   "execution_count": 23,
   "id": "f2b043ce",
   "metadata": {},
   "outputs": [
    {
     "data": {
      "image/png": "[encoded data removed]",
      "text/plain": [
       "<Figure size 600x300 with 1 Axes>"
      ]
     },
     "metadata": {},
     "output_type": "display_data"
    }
   ],
   "source": [
    "import matplotlib.pyplot as plt\n",
    "\n",
    "# Precision values\n",
    "precision_values = [0.9822906826876624, 0.9977546072354199, 0.9977546072354199, 0.9954941796131546, 0.9977546072354199]\n",
    "models = ['Naive Bayes', 'Random Forest', 'SVM', 'KNN', 'Decision Tree']\n",
    "\n",
    "# Plot\n",
    "plt.figure(figsize=(6, 3))\n",
    "plt.bar(models, precision_values, color='skyblue')\n",
    "plt.title('Precision Scores of Different Models')\n",
    "plt.xlabel('Models')\n",
    "plt.ylabel('Precision')\n",
    "plt.ylim(0.98, 1.0)  # Set y-axis limit to focus on precision differences\n",
    "#plt.grid(axis='both', linestyle='--', color='gray', alpha=0.7)\n",
    "plt.show()\n"
   ]
  },
  {
   "cell_type": "code",
   "execution_count": 26,
   "id": "4929c0f0",
   "metadata": {},
   "outputs": [
    {
     "data": {
      "image/png": "[encoded data removed]",
      "text/plain": [
       "<Figure size 600x300 with 1 Axes>"
      ]
     },
     "metadata": {},
     "output_type": "display_data"
    }
   ],
   "source": [
    "import matplotlib.pyplot as plt\n",
    "\n",
    "# Precision values\n",
    "precision_values = [0.981941309255079,0.9977426636568849,0.9977426636568849,0.9954853273137697,0.9977426636568849]\n",
    "models = ['Naive Bayes', 'Random Forest', 'SVM', 'KNN', 'Decision Tree']\n",
    "\n",
    "# Plot\n",
    "plt.figure(figsize=(6, 3))\n",
    "plt.bar(models, precision_values, color='skyblue')\n",
    "plt.title('Recall Scores of Different Models')\n",
    "plt.xlabel('Models')\n",
    "plt.ylabel('Recall')\n",
    "plt.ylim(0.98, 1.0)  # Set y-axis limit to focus on precision differences\n",
    "#plt.grid(axis='both', linestyle='--', color='gray', alpha=0.7)\n",
    "plt.show()"
   ]
  },
  {
   "cell_type": "code",
   "execution_count": 27,
   "id": "57fefe96",
   "metadata": {},
   "outputs": [
    {
     "name": "stdout",
     "output_type": "stream",
     "text": [
      "F1 score of Naive Bayes: 0.9807736071121199\n",
      "F1 score of Random Forest: 0.996616989300106\n",
      "F1 score of SVM: 0.996616989300106\n",
      "F1 score of KNN: 0.994358876564946\n",
      "F1 score of Decision Tree: 0.996616989300106\n"
     ]
    }
   ],
   "source": [
    "import pandas as pd\n",
    "from sklearn.model_selection import train_test_split\n",
    "from sklearn.naive_bayes import GaussianNB\n",
    "from sklearn.ensemble import RandomForestClassifier\n",
    "from sklearn.svm import SVC\n",
    "from sklearn.neighbors import KNeighborsClassifier\n",
    "from sklearn.tree import DecisionTreeClassifier\n",
    "from sklearn.metrics import f1_score  # Importing f1_score\n",
    "\n",
    "# Step 1: Define thresholds for rainfall categories\n",
    "low_threshold = 0\n",
    "medium_threshold = 100\n",
    "high_threshold = 300\n",
    "\n",
    "# Step 2: Convert continuous values into categorical labels\n",
    "def categorize_rainfall(amount):\n",
    "    if amount <= low_threshold:\n",
    "        return 'Low'\n",
    "    elif amount <= medium_threshold:\n",
    "        return 'Medium'\n",
    "    else:\n",
    "        return 'High'\n",
    "\n",
    "# Load rain data from CSV\n",
    "# df = pd.read_csv('rain_data.csv')\n",
    "\n",
    "# Apply categorization function to create new column 'Rain Category'\n",
    "df['Rain Category'] = df['rain'].apply(categorize_rainfall)\n",
    "\n",
    "# Step 3: Split the dataset into training and testing sets\n",
    "X = df[['rain']]\n",
    "y = df['Rain Category']\n",
    "X_train, X_test, y_train, y_test = train_test_split(X, y, test_size=0.3, random_state=42)\n",
    "\n",
    "# Dictionary to store F1 scores of each model\n",
    "f1_scores = {}\n",
    "\n",
    "# Step 4: Train and test different models\n",
    "models = {\n",
    "    'Naive Bayes': GaussianNB(),\n",
    "    'Random Forest': RandomForestClassifier(random_state=42),\n",
    "    'SVM': SVC(kernel='linear'),\n",
    "    'KNN': KNeighborsClassifier(),\n",
    "    'Decision Tree': DecisionTreeClassifier(random_state=42)\n",
    "}\n",
    "\n",
    "for name, model in models.items():\n",
    "    model.fit(X_train, y_train)\n",
    "    y_pred = model.predict(X_test)\n",
    "    f1 = f1_score(y_test, y_pred, average='weighted')\n",
    "    f1_scores[name] = f1\n",
    "\n",
    "# Print F1 scores\n",
    "for name, f1 in f1_scores.items():\n",
    "    print(f'F1 score of {name}: {f1}')\n"
   ]
  },
  {
   "cell_type": "code",
   "execution_count": 28,
   "id": "a8b52f9d",
   "metadata": {},
   "outputs": [
    {
     "data": {
      "image/png": "[encoded data removed]",
      "text/plain": [
       "<Figure size 600x300 with 1 Axes>"
      ]
     },
     "metadata": {},
     "output_type": "display_data"
    }
   ],
   "source": [
    "import pandas as pd\n",
    "from sklearn.model_selection import train_test_split\n",
    "from sklearn.naive_bayes import GaussianNB\n",
    "from sklearn.ensemble import RandomForestClassifier\n",
    "from sklearn.svm import SVC\n",
    "from sklearn.neighbors import KNeighborsClassifier\n",
    "from sklearn.tree import DecisionTreeClassifier\n",
    "from sklearn.metrics import f1_score\n",
    "import matplotlib.pyplot as plt  # Importing Matplotlib for plotting\n",
    "\n",
    "# Step 1: Define thresholds for rainfall categories\n",
    "low_threshold = 0\n",
    "medium_threshold = 100\n",
    "high_threshold = 300\n",
    "\n",
    "# Step 2: Convert continuous values into categorical labels\n",
    "def categorize_rainfall(amount):\n",
    "    if amount <= low_threshold:\n",
    "        return 'Low'\n",
    "    elif amount <= medium_threshold:\n",
    "        return 'Medium'\n",
    "    else:\n",
    "        return 'High'\n",
    "\n",
    "# Load rain data from CSV\n",
    "# df = pd.read_csv('rain_data.csv')\n",
    "\n",
    "# Apply categorization function to create new column 'Rain Category'\n",
    "df['Rain Category'] = df['rain'].apply(categorize_rainfall)\n",
    "\n",
    "# Step 3: Split the dataset into training and testing sets\n",
    "X = df[['rain']]\n",
    "y = df['Rain Category']\n",
    "X_train, X_test, y_train, y_test = train_test_split(X, y, test_size=0.3, random_state=42)\n",
    "\n",
    "# Dictionary to store F1 scores of each model\n",
    "f1_scores = {}\n",
    "\n",
    "# Step 4: Train and test different models\n",
    "models = {\n",
    "    'Naive Bayes': GaussianNB(),\n",
    "    'Random Forest': RandomForestClassifier(random_state=42),\n",
    "    'SVM': SVC(kernel='linear'),\n",
    "    'KNN': KNeighborsClassifier(),\n",
    "    'Decision Tree': DecisionTreeClassifier(random_state=42)\n",
    "}\n",
    "\n",
    "for name, model in models.items():\n",
    "    model.fit(X_train, y_train)\n",
    "    y_pred = model.predict(X_test)\n",
    "    f1 = f1_score(y_test, y_pred, average='weighted')\n",
    "    f1_scores[name] = f1\n",
    "\n",
    "# Plotting F1 scores\n",
    "plt.figure(figsize=(6, 3))  # Set figure size to (6, 3)\n",
    "plt.bar(f1_scores.keys(), f1_scores.values(), color='skyblue')\n",
    "plt.xlabel('Classifier')\n",
    "plt.ylabel('F1 Score')\n",
    "plt.title('F1 Scores of Different Classifiers')\n",
    "plt.xticks(rotation=45, ha='right')\n",
    "plt.show()\n"
   ]
  },
  {
   "cell_type": "code",
   "execution_count": null,
   "id": "e2563d50",
   "metadata": {},
   "outputs": [],
   "source": []
  },
  {
   "cell_type": "code",
   "execution_count": null,
   "id": "2fd48c01",
   "metadata": {},
   "outputs": [],
   "source": []
  }
 ],
 "metadata": {
  "kernelspec": {
   "display_name": "Python 3 (ipykernel)",
   "language": "python",
   "name": "python3"
  },
  "language_info": {
   "codemirror_mode": {
    "name": "ipython",
    "version": 3
   },
   "file_extension": ".py",
   "mimetype": "text/x-python",
   "name": "python",
   "nbconvert_exporter": "python",
   "pygments_lexer": "ipython3",
   "version": "3.11.5"
  }
 },
 "nbformat": 4,
 "nbformat_minor": 5
}
